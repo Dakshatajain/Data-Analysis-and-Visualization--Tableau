{
 "cells": [
  {
   "cell_type": "markdown",
   "metadata": {},
   "source": [
    "#### US Startup Trend Analysis:"
   ]
  },
  {
   "cell_type": "markdown",
   "metadata": {},
   "source": [
    "__Objective:__\n",
    "\n",
    "This project focuses on creating an interactive dashboard that can be used by the start-ups to get valuable insights before the launch of a start-up. It explores and analyzes the data pertaining to startups in USA from Crunchbase to evaluate current scenario and identify hidden patterns and visually present it using data visualization tool like Tableau. The objective of the project is to use data visualization not only to explore and analyze the data but to also focus on presenting and communicating the findings to technical and non-technical users. \n",
    "\n",
    "Few questions that have been addressed in the analysis:\n",
    "1. Geographical analysis : Identifying best location to launch a start-up\n",
    "2. Targeting - Identifying best investors and top acquirers for startups in different sectors\n",
    "3. Analysis on the funding timeline for different sectors"
   ]
  },
  {
   "cell_type": "markdown",
   "metadata": {},
   "source": [
    "__Data Overview:__"
   ]
  },
  {
   "cell_type": "markdown",
   "metadata": {},
   "source": [
    "The analysis is carried on crunchbase data export from 2015. The dataset contains three important files: investments, companies, and acquisitions. It includes more than 66,000 companies that were founded between 1977 and 2015. Among these 66,000 companies, there were approximately 18,000 companies that were subsequently acquired. \n",
    "Data source : [source] \n",
    "\n",
    "[source]:https://github.com/notpeter/crunchbase-data"
   ]
  },
  {
   "cell_type": "markdown",
   "metadata": {},
   "source": [
    "__Methodology and Analysis:__"
   ]
  },
  {
   "cell_type": "markdown",
   "metadata": {},
   "source": [
    "1. Data Cleaning and Merging - Extracting data pertaining to US, data cleaning including handling missing values and merging relevant information.\n",
    "2. Data Visualization for each type of the analysis  -\n",
    "    * The analysis started with evaluating the current scenario which included identifying number of companies founded in different sectors, over time and locations, top investors, acquirers, funding amount for each sector etc. \n",
    "    * Building heat maps and looking for interactions such as between founded and funded helped uncover patterns and trends. \n",
    "    * Building dashboards for each of the section using relevant graphs and exploring features like geo-maps, filters,  trend lines to impactfully communicate the findings  \n",
    "3. Story-Telling and Presentation - Combining dashboards and using story telling feature of tableau to present the findings."
   ]
  },
  {
   "cell_type": "markdown",
   "metadata": {},
   "source": [
    "[![title](Tableau.png \"Title\")](https://public.tableau.com/profile/dakshata#!/vizhome/StartUpTrendAnalysis/StartupAnalysis?publish=yes)"
   ]
  }
 ],
 "metadata": {
  "kernelspec": {
   "display_name": "Python 3",
   "language": "python",
   "name": "python3"
  },
  "language_info": {
   "codemirror_mode": {
    "name": "ipython",
    "version": 3
   },
   "file_extension": ".py",
   "mimetype": "text/x-python",
   "name": "python",
   "nbconvert_exporter": "python",
   "pygments_lexer": "ipython3",
   "version": "3.7.1"
  }
 },
 "nbformat": 4,
 "nbformat_minor": 2
}
